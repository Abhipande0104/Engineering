{
 "cells": [
  {
   "cell_type": "code",
   "execution_count": 4,
   "id": "23404a17",
   "metadata": {},
   "outputs": [
    {
     "name": "stdout",
     "output_type": "stream",
     "text": [
      "Job_Schedule:  ['jobA', 'jobB', 'jobC', 'jobE', 'jobD']\n"
     ]
    }
   ],
   "source": [
    "#Job Schedule\n",
    "\n",
    "def schedule_jobs(jobs):\n",
    "    sorted_jobs= sorted(job_var, key= lambda x: x['duration'])\n",
    "    \n",
    "    schedule= []\n",
    "    current_time= 0\n",
    "    \n",
    "    for job in sorted_jobs:\n",
    "        if current_time + job['duration'] <= job['deadline']:\n",
    "            schedule.append(job['name'])\n",
    "            current_time= current_time+ job['duration']\n",
    "            \n",
    "    return schedule\n",
    "\n",
    "job_var=[\n",
    "    {'name': 'jobA', 'duration': 1, 'deadline': 118},\n",
    "    {'name': 'jobB', 'duration': 3, 'deadline': 157},\n",
    "    {'name': 'jobC', 'duration': 5, 'deadline': 159},\n",
    "    {'name': 'jobD', 'duration': 7, 'deadline': 200},\n",
    "    {'name': 'jobE', 'duration': 6, 'deadline': 912}\n",
    "]\n",
    "\n",
    "ans= schedule_jobs(job_var)\n",
    "print(\"Job_Schedule: \", ans)"
   ]
  },
  {
   "cell_type": "code",
   "execution_count": null,
   "id": "035f3a1d",
   "metadata": {},
   "outputs": [],
   "source": []
  }
 ],
 "metadata": {
  "kernelspec": {
   "display_name": "Python 3 (ipykernel)",
   "language": "python",
   "name": "python3"
  },
  "language_info": {
   "codemirror_mode": {
    "name": "ipython",
    "version": 3
   },
   "file_extension": ".py",
   "mimetype": "text/x-python",
   "name": "python",
   "nbconvert_exporter": "python",
   "pygments_lexer": "ipython3",
   "version": "3.9.13"
  }
 },
 "nbformat": 4,
 "nbformat_minor": 5
}
