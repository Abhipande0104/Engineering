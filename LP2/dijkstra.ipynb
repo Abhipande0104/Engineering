{
 "cells": [
  {
   "cell_type": "code",
   "execution_count": 3,
   "id": "182acb39",
   "metadata": {},
   "outputs": [
    {
     "name": "stdout",
     "output_type": "stream",
     "text": [
      "Shortest distance from  A:\n",
      "A: 0\n",
      "B: 4\n",
      "C: 3\n",
      "D: 6\n"
     ]
    }
   ],
   "source": [
    "#djikstars algo\n",
    "\n",
    "import heapq\n",
    "\n",
    "def dijkstra(graph, source):\n",
    "    distances ={vertex: float('inf') for vertex in graph}\n",
    "    distances[source]= 0\n",
    "    queue= [(0, source)]\n",
    "    \n",
    "    while queue:\n",
    "        current_distance, current_vertex= heapq.heappop(queue)\n",
    "        \n",
    "        if current_distance> distances[current_vertex]:\n",
    "            continue\n",
    "            \n",
    "        for neighbor, weight in graph[current_vertex].items():\n",
    "            distance= current_distance+ weight\n",
    "            \n",
    "            if distance< distances[neighbor]:\n",
    "                distances[neighbor]= distance\n",
    "                heapq.heappush(queue, (distance, neighbor))\n",
    "                \n",
    "    return distances\n",
    "\n",
    "#note the graph is directed graph\n",
    "graph={\n",
    "    'A' : {'B':5, 'C':3},\n",
    "    'B' : {'D':2},\n",
    "    'C' : {'B':1, 'D':6},\n",
    "    'D' : {'A':2}\n",
    "}\n",
    "\n",
    "source_vertex= 'A'\n",
    "shortest_distances= dijkstra(graph, source_vertex)\n",
    "\n",
    "print(\"Shortest distance from \", source_vertex+ \":\")\n",
    "for vertex, distance in shortest_distances.items():\n",
    "    print(vertex+ \":\", distance)\n",
    "    \n",
    "    "
   ]
  },
  {
   "cell_type": "code",
   "execution_count": null,
   "id": "3e253b7b",
   "metadata": {},
   "outputs": [],
   "source": []
  }
 ],
 "metadata": {
  "kernelspec": {
   "display_name": "Python 3 (ipykernel)",
   "language": "python",
   "name": "python3"
  },
  "language_info": {
   "codemirror_mode": {
    "name": "ipython",
    "version": 3
   },
   "file_extension": ".py",
   "mimetype": "text/x-python",
   "name": "python",
   "nbconvert_exporter": "python",
   "pygments_lexer": "ipython3",
   "version": "3.9.13"
  }
 },
 "nbformat": 4,
 "nbformat_minor": 5
}
