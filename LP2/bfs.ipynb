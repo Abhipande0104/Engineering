{
 "cells": [
  {
   "cell_type": "code",
   "execution_count": 2,
   "id": "9d492f0c",
   "metadata": {},
   "outputs": [
    {
     "name": "stdout",
     "output_type": "stream",
     "text": [
      "Following is the breadth first search\n",
      "5 3 7 2 4 8 "
     ]
    }
   ],
   "source": [
    "#BFS\n",
    "\n",
    "graph={\n",
    "    '5' : ['3', '7'],\n",
    "    '3' : ['2', '4'],\n",
    "    '7' : ['3'],\n",
    "    '2' : [],\n",
    "    '4' : ['8'],\n",
    "    '8' : [],\n",
    "}\n",
    "\n",
    "#List for visiting nodes\n",
    "visited= []\n",
    "#Initialize a queue\n",
    "queue= []\n",
    "\n",
    "#Function for BFS\n",
    "def bfs(visited, graph, node):\n",
    "    visited.append(node)\n",
    "    queue.append(node)\n",
    "    \n",
    "    #Creating loop to visit each node\n",
    "    while queue:\n",
    "        m= queue.pop(0)\n",
    "        print(m, end= \" \")\n",
    "        \n",
    "        for neighbour in graph[m]:\n",
    "            if neighbour not in visited:\n",
    "                visited.append(neighbour)\n",
    "                queue.append(neighbour)\n",
    "                \n",
    "#Driver code\n",
    "print(\"Following is the breadth first search\")\n",
    "bfs(visited, graph, '5')  #function calling"
   ]
  },
  {
   "cell_type": "code",
   "execution_count": null,
   "id": "2da697f9",
   "metadata": {},
   "outputs": [],
   "source": []
  }
 ],
 "metadata": {
  "kernelspec": {
   "display_name": "Python 3 (ipykernel)",
   "language": "python",
   "name": "python3"
  },
  "language_info": {
   "codemirror_mode": {
    "name": "ipython",
    "version": 3
   },
   "file_extension": ".py",
   "mimetype": "text/x-python",
   "name": "python",
   "nbconvert_exporter": "python",
   "pygments_lexer": "ipython3",
   "version": "3.9.13"
  }
 },
 "nbformat": 4,
 "nbformat_minor": 5
}
