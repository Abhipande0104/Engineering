{
 "cells": [
  {
   "cell_type": "code",
   "execution_count": null,
   "id": "1fe1de92",
   "metadata": {},
   "outputs": [
    {
     "name": "stderr",
     "output_type": "stream",
     "text": [
      "Exception in Tkinter callback\n",
      "Traceback (most recent call last):\n",
      "  File \"C:\\Users\\Admin\\anaconda3\\lib\\tkinter\\__init__.py\", line 1892, in __call__\n",
      "    return self.func(*args)\n",
      "  File \"C:\\Users\\Admin\\AppData\\Local\\Temp\\ipykernel_13672\\926062698.py\", line 9, in send\n",
      "    user= e.get.lower()\n",
      "AttributeError: 'function' object has no attribute 'lower'\n",
      "Exception in Tkinter callback\n",
      "Traceback (most recent call last):\n",
      "  File \"C:\\Users\\Admin\\anaconda3\\lib\\tkinter\\__init__.py\", line 1892, in __call__\n",
      "    return self.func(*args)\n",
      "  File \"C:\\Users\\Admin\\AppData\\Local\\Temp\\ipykernel_13672\\926062698.py\", line 9, in send\n",
      "    user= e.get.lower()\n",
      "AttributeError: 'function' object has no attribute 'lower'\n",
      "Exception in Tkinter callback\n",
      "Traceback (most recent call last):\n",
      "  File \"C:\\Users\\Admin\\anaconda3\\lib\\tkinter\\__init__.py\", line 1892, in __call__\n",
      "    return self.func(*args)\n",
      "  File \"C:\\Users\\Admin\\AppData\\Local\\Temp\\ipykernel_13672\\926062698.py\", line 9, in send\n",
      "    user= e.get.lower()\n",
      "AttributeError: 'function' object has no attribute 'lower'\n",
      "Exception in Tkinter callback\n",
      "Traceback (most recent call last):\n",
      "  File \"C:\\Users\\Admin\\anaconda3\\lib\\tkinter\\__init__.py\", line 1892, in __call__\n",
      "    return self.func(*args)\n",
      "  File \"C:\\Users\\Admin\\AppData\\Local\\Temp\\ipykernel_13672\\926062698.py\", line 9, in send\n",
      "    user= e.get.lower()\n",
      "AttributeError: 'function' object has no attribute 'lower'\n"
     ]
    }
   ],
   "source": [
    "from tkinter import *\n",
    "root =Tk()\n",
    "root.title(\"Chatbot\")\n",
    "\n",
    "#function for chatbot\n",
    "def send():\n",
    "    send =\"You = \"+ e.get()\n",
    "    txt.insert(END, \"\\n\" + send)\n",
    "    user= e.get.lower()\n",
    "    \n",
    "    #If else statements\n",
    "    if(user== \"hello\"):\n",
    "        txt.insert(END, \"\\n\"+ \"Bot = Hi\")\n",
    "    elif(user==\"hi\" or user==\"hii\" or user==\"hiii\"):\n",
    "        txt.insert(END, \"\\n\"+ \"Bot = Hello\")\n",
    "    elif(user==\"How are you\"):\n",
    "        txt.insert(END, \"\\n\"+ \"Bot = I am Fine and you\")\n",
    "    else:\n",
    "        txt.insert(END, \"\\n\"+\"Bot = Sorry, I didnt get\")\n",
    "        \n",
    "    e.delete(0, END)\n",
    "    \n",
    "txt= Text(root)\n",
    "txt.grid(row=0, column=0, columnspan=2)\n",
    "e= Entry(root, width=100)\n",
    "e.grid(row=1, column=0)\n",
    "send= Button(root, text=\"Send\", command=send).grid(row=1, column=1)\n",
    "root.mainloop()\n",
    "    "
   ]
  },
  {
   "cell_type": "code",
   "execution_count": null,
   "id": "8a96e722",
   "metadata": {},
   "outputs": [],
   "source": []
  }
 ],
 "metadata": {
  "kernelspec": {
   "display_name": "Python 3 (ipykernel)",
   "language": "python",
   "name": "python3"
  },
  "language_info": {
   "codemirror_mode": {
    "name": "ipython",
    "version": 3
   },
   "file_extension": ".py",
   "mimetype": "text/x-python",
   "name": "python",
   "nbconvert_exporter": "python",
   "pygments_lexer": "ipython3",
   "version": "3.9.13"
  }
 },
 "nbformat": 4,
 "nbformat_minor": 5
}
